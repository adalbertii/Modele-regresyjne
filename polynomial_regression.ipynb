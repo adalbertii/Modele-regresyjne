{
  "nbformat": 4,
  "nbformat_minor": 0,
  "metadata": {
    "colab": {
      "name": "05_polynomial_regression.ipynb",
      "provenance": [],
      "include_colab_link": true
    },
    "kernelspec": {
      "name": "python3",
      "display_name": "Python 3"
    },
    "accelerator": "GPU"
  },
  "cells": [
    {
      "cell_type": "markdown",
      "metadata": {
        "id": "view-in-github",
        "colab_type": "text"
      },
      "source": [
        "<a href=\"https://colab.research.google.com/github/adalbertii/Modele-regresyjne/blob/main/polynomial_regression.ipynb\" target=\"_parent\"><img src=\"https://colab.research.google.com/assets/colab-badge.svg\" alt=\"Open In Colab\"/></a>"
      ]
    },
    {
      "cell_type": "markdown",
      "metadata": {
        "id": "Yxg7QeJHFrec"
      },
      "source": [
        "### <a name='0'></a> Import bibliotek"
      ]
    },
    {
      "cell_type": "code",
      "metadata": {
        "id": "do5ULTJPN0St"
      },
      "source": [
        "import numpy as np\n",
        "import pandas as pd\n",
        "import matplotlib.pyplot as plt\n",
        "import seaborn as sns\n",
        "import plotly.express as px\n",
        "import sklearn\n",
        "\n",
        "np.random.seed(42)\n",
        "np.set_printoptions(precision=6, suppress=True)\n",
        "sns.set(font_scale=1.3)\n",
        "sklearn.__version__"
      ],
      "execution_count": null,
      "outputs": []
    },
    {
      "cell_type": "markdown",
      "metadata": {
        "id": "m6t9_XjVn6nC"
      },
      "source": [
        "### <a name='1'></a> Polynomial Regression - Regresja Wielomianowa\n",
        "Powszechnym wzorcem stosowanym w uczeniu maszynowym jest użycie modeli liniowych wytrenowanych na nieliniowych funkcjach danych. Podejscie to utrzymuje szybkie działanie metod liniowych i zarazem umożliwia stosowanie metod liniowych dla znacznie szerszego zakresu danych.\n",
        "\n",
        "Przykładowo, prosta regresja liniowa może zostać zastosowana przez skonstruowanie cech wielomianowych do modelów nieliniowych.\n",
        "\n",
        "To implikuje fakt, iż nasz model regresji wielomianowej znajduje się w klasie modeli liniowych i może być rozwiązany za pomocą tych samych technik.\n",
        "\n",
        "### Rozważmy model regresji liniowej: $Y=w_0+w_1X_1$\n"
      ]
    },
    {
      "cell_type": "markdown",
      "metadata": {
        "id": "n2ja6_EfGDXf"
      },
      "source": [
        "### <a name='2'></a> Wygenerowanie danych"
      ]
    },
    {
      "cell_type": "code",
      "metadata": {
        "id": "hkcj5Yb_VhrK"
      },
      "source": [
        "X = np.arange(-10, 10, 0.5)\n",
        "noise = 80 * np.random.randn(40)\n",
        "y = -X**3 + 10*X**2 - 2*X + 3 + noise\n",
        "X = X.reshape(40, 1)"
      ],
      "execution_count": 21,
      "outputs": []
    },
    {
      "cell_type": "markdown",
      "source": [
        "Sporządzenie wykresu"
      ],
      "metadata": {
        "id": "51ZaC57OPW1F"
      }
    },
    {
      "cell_type": "code",
      "source": [
        "\n",
        "plt.figure(figsize=(8, 6))\n",
        "plt.title('Regresja liniowa')\n",
        "plt.xlabel('cecha x')\n",
        "plt.ylabel('zmienna docelowa')\n",
        "plt.scatter(X, y, label='cecha x')\n",
        "plt.legend()\n",
        "plt.show()"
      ],
      "metadata": {
        "id": "xSTqEWCCO66U"
      },
      "execution_count": null,
      "outputs": []
    },
    {
      "cell_type": "markdown",
      "metadata": {
        "id": "vWHoQCctGLLD"
      },
      "source": [
        "### <a name='3'></a> Model liniowy"
      ]
    },
    {
      "cell_type": "code",
      "metadata": {
        "id": "I3e2ln52FaBn"
      },
      "source": [
        "from sklearn.linear_model import LinearRegression\n",
        "\n",
        "regressor = LinearRegression()\n",
        "regressor.fit(X, y)\n",
        "y_pred_lin = regressor.predict(X)"
      ],
      "execution_count": 23,
      "outputs": []
    },
    {
      "cell_type": "markdown",
      "source": [
        "Sporządzenie wykresu"
      ],
      "metadata": {
        "id": "DN3eVD3tPj-c"
      }
    },
    {
      "cell_type": "code",
      "source": [
        "plt.figure(figsize=(8, 6))\n",
        "plt.title('Regresja liniowa')\n",
        "plt.xlabel('cecha x')\n",
        "plt.ylabel('zmienna docelowa')\n",
        "plt.scatter(X, y, label='cecha x')\n",
        "plt.plot(X, y_pred_lin, c='red', label='regresja liniowa')\n",
        "plt.legend()\n",
        "plt.show()"
      ],
      "metadata": {
        "id": "VuV0xCnePJy9"
      },
      "execution_count": null,
      "outputs": []
    },
    {
      "cell_type": "markdown",
      "source": [
        "Weryfikacja modelu"
      ],
      "metadata": {
        "id": "7eRk41M6PnFE"
      }
    },
    {
      "cell_type": "code",
      "metadata": {
        "id": "u-NJxTVMF9WQ"
      },
      "source": [
        "from sklearn.metrics import r2_score\n",
        "\n",
        "r2_score(y, y_pred_lin)"
      ],
      "execution_count": null,
      "outputs": []
    },
    {
      "cell_type": "markdown",
      "metadata": {
        "id": "HiBChJPbGJaW"
      },
      "source": [
        "Model jest niedouczony (underfitting).\n",
        "\n",
        "Rozważmy model regresji liniowej:\n",
        "$$Y = w_0 + w_1 X_1$$\n",
        "Dodając cechy wielomianowe otrzymujemy:\n",
        "$$Y = w_0 + w_1 X_1 +w_2X_1^2 $$\n",
        "Wyobraźmy sobie teraz nastepujące podstawienie:\n",
        "$$Z = [1, X_1, X_1^2]$$\n",
        "Uwzględniając to  otrzymujemy prosty model liniowy:\n",
        "$$Y = w_0 + w_1 Z_1 + w_2 Z_2$$"
      ]
    },
    {
      "cell_type": "markdown",
      "metadata": {
        "id": "DUfA_V18P8_q"
      },
      "source": [
        "###  <a name='4'></a> Ekstrakcja cech wielomianowych - stopień 2"
      ]
    },
    {
      "cell_type": "code",
      "metadata": {
        "id": "dcStk2a6Dy-w"
      },
      "source": [
        "df = pd.DataFrame(data={'X': X.ravel()})\n",
        "df.head(10)"
      ],
      "execution_count": null,
      "outputs": []
    },
    {
      "cell_type": "code",
      "metadata": {
        "id": "uR-M0toazuiH"
      },
      "source": [
        "from sklearn.preprocessing import PolynomialFeatures\n",
        "\n",
        "poly = PolynomialFeatures(degree=2)\n",
        "\n",
        "X_poly = poly.fit_transform(X)\n",
        "X_poly"
      ],
      "execution_count": null,
      "outputs": []
    },
    {
      "cell_type": "code",
      "metadata": {
        "id": "1RqD1PkzE_5k"
      },
      "source": [
        "X_poly.shape"
      ],
      "execution_count": null,
      "outputs": []
    },
    {
      "cell_type": "code",
      "metadata": {
        "id": "G0OHi2IpE2iP"
      },
      "source": [
        "df = pd.DataFrame(X_poly)\n",
        "df.columns = ['1', 'x', 'x^2']\n",
        "df.head(10)"
      ],
      "execution_count": null,
      "outputs": []
    },
    {
      "cell_type": "markdown",
      "metadata": {
        "id": "fnK60kycQRMg"
      },
      "source": [
        "###  <a name='5'></a> Dopasowanie modelu"
      ]
    },
    {
      "cell_type": "code",
      "metadata": {
        "id": "cjfNBfGBwR2a"
      },
      "source": [
        "regressor_poly = LinearRegression()\n",
        "regressor_poly.fit(X_poly, y)\n",
        "\n",
        "y_pred_2 = regressor_poly.predict(X_poly)"
      ],
      "execution_count": 30,
      "outputs": []
    },
    {
      "cell_type": "code",
      "source": [
        "plt.figure(figsize=(8, 6))\n",
        "plt.title('Regresja wielomianowa')\n",
        "plt.xlabel('cecha x')\n",
        "plt.ylabel('zmienna docelowa')\n",
        "plt.scatter(X, y, label='cecha x')\n",
        "plt.plot(X, y_pred_lin, c='red', label='regresja liniowa')\n",
        "plt.plot(X, y_pred_2, c='green', label='regresja wielomianowa, st. 2')\n",
        "plt.legend()\n",
        "plt.show()"
      ],
      "metadata": {
        "id": "tczPjyKTP02W"
      },
      "execution_count": null,
      "outputs": []
    },
    {
      "cell_type": "code",
      "metadata": {
        "id": "51nd0N6FylLq"
      },
      "source": [
        "r2_score(y, y_pred_2)"
      ],
      "execution_count": null,
      "outputs": []
    },
    {
      "cell_type": "markdown",
      "metadata": {
        "id": "0UEP3RwmRO5b"
      },
      "source": [
        "###  <a name='6'></a> Ekstrakcja cech wielomianowych - stopień 3"
      ]
    },
    {
      "cell_type": "code",
      "metadata": {
        "id": "bfB52p8bPz0K"
      },
      "source": [
        "poly = PolynomialFeatures(degree=3)\n",
        "\n",
        "X_poly_3 = poly.fit_transform(X)\n",
        "X_poly_3"
      ],
      "execution_count": null,
      "outputs": []
    },
    {
      "cell_type": "markdown",
      "metadata": {
        "id": "BOB19D4xRYQy"
      },
      "source": [
        "###  <a name='7'></a> Dopasowanie modelu"
      ]
    },
    {
      "cell_type": "code",
      "metadata": {
        "id": "MvCSaSLjQcem"
      },
      "source": [
        "regressor_poly_3 = LinearRegression()\n",
        "regressor_poly_3.fit(X_poly_3, y)\n",
        "\n",
        "y_pred_3 = regressor_poly_3.predict(X_poly_3)"
      ],
      "execution_count": 34,
      "outputs": []
    },
    {
      "cell_type": "code",
      "source": [
        "plt.figure(figsize=(8, 6))\n",
        "plt.title('Regresja wielomianowa')\n",
        "plt.xlabel('cecha x')\n",
        "plt.ylabel('zmienna docelowa')\n",
        "plt.scatter(X, y, label='cecha x')\n",
        "plt.plot(X, y_pred_lin, c='red', label='regresja liniowa')\n",
        "plt.plot(X, y_pred_2, c='green', label='regresja wielomianowa, st. 2')\n",
        "plt.plot(X, y_pred_3, c='orange', label='regresja wielomianowa, st. 3')\n",
        "plt.legend()\n",
        "plt.show()"
      ],
      "metadata": {
        "id": "bmMs7l8VQE2l"
      },
      "execution_count": null,
      "outputs": []
    },
    {
      "cell_type": "code",
      "metadata": {
        "id": "TPndVZM9RDdy"
      },
      "source": [
        "r2_score(y, y_pred_3)"
      ],
      "execution_count": null,
      "outputs": []
    },
    {
      "cell_type": "code",
      "metadata": {
        "id": "GsIapMeCo46G"
      },
      "source": [
        "r2_score(y, y_pred_lin)"
      ],
      "execution_count": null,
      "outputs": []
    },
    {
      "cell_type": "markdown",
      "metadata": {
        "id": "LzlFgfRALb83"
      },
      "source": [
        "###  <a name='8'></a> Porównanie metryk"
      ]
    },
    {
      "cell_type": "code",
      "metadata": {
        "id": "fD77Zt7fKmDU"
      },
      "source": [
        "from sklearn.metrics import mean_absolute_error as mae\n",
        "from sklearn.metrics import mean_squared_error as mse"
      ],
      "execution_count": 38,
      "outputs": []
    },
    {
      "cell_type": "code",
      "metadata": {
        "id": "swKMdNUlI7Jk"
      },
      "source": [
        "results = pd.DataFrame(data={\n",
        "    'name': ['regresja liniowa', 'regresja wielomianowa st. 2', 'regresja wielomianowa st. 3'],\n",
        "    'r2_score': [r2_score(y, y_pred_lin), r2_score(y, y_pred_2), r2_score(y, y_pred_3)],\n",
        "    'mae': [mae(y, y_pred_lin), mae(y, y_pred_2), mae(y, y_pred_3)],\n",
        "    'mse': [mse(y, y_pred_lin), mse(y, y_pred_2), mse(y, y_pred_3)],\n",
        "    'rmse': [np.sqrt(mse(y, y_pred_lin)), np.sqrt(mse(y, y_pred_2)), np.sqrt(mse(y, y_pred_3))]\n",
        "    })\n",
        "results"
      ],
      "execution_count": null,
      "outputs": []
    },
    {
      "cell_type": "code",
      "metadata": {
        "id": "BD413tJZJBhR"
      },
      "source": [
        "px.bar(results, x='name', y='r2_score', width=700, title='Regresja wielomianowa - R2_score')"
      ],
      "execution_count": null,
      "outputs": []
    },
    {
      "cell_type": "code",
      "metadata": {
        "id": "zdK3JpH9JIrE"
      },
      "source": [
        "px.bar(results, x='name', y='mae', width=700, title='Regresja wielomianowa - mean absolute error')"
      ],
      "execution_count": null,
      "outputs": []
    },
    {
      "cell_type": "code",
      "metadata": {
        "id": "qJyVRukFK0EK"
      },
      "source": [
        "px.bar(results, x='name', y='mse', width=700, title='Regresja wielomianowa - mean squared error')"
      ],
      "execution_count": null,
      "outputs": []
    },
    {
      "cell_type": "code",
      "metadata": {
        "id": "a9xHCvZ9LCDq"
      },
      "source": [
        "px.bar(results, x='name', y='rmse', width=700, title='Regresja wielomianowa - root mean squared error')"
      ],
      "execution_count": null,
      "outputs": []
    },
    {
      "cell_type": "code",
      "metadata": {
        "id": "TuiQXHAFLQxO"
      },
      "source": [],
      "execution_count": null,
      "outputs": []
    }
  ]
}