{
  "nbformat": 4,
  "nbformat_minor": 0,
  "metadata": {
    "colab": {
      "name": "06_decision_tree_regression.ipynb",
      "provenance": [],
      "include_colab_link": true
    },
    "kernelspec": {
      "name": "python3",
      "display_name": "Python 3"
    }
  },
  "cells": [
    {
      "cell_type": "markdown",
      "metadata": {
        "id": "view-in-github",
        "colab_type": "text"
      },
      "source": [
        "<a href=\"https://colab.research.google.com/github/adalbertii/Modele-regresyjne/blob/main/decision_tree_regression.ipynb\" target=\"_parent\"><img src=\"https://colab.research.google.com/assets/colab-badge.svg\" alt=\"Open In Colab\"/></a>"
      ]
    },
    {
      "cell_type": "markdown",
      "metadata": {
        "id": "lrHAJ-JkNgcQ"
      },
      "source": [
        "### <a name='0'></a> Import bibliotek\n"
      ]
    },
    {
      "cell_type": "code",
      "metadata": {
        "id": "N9kHmWCHyCYT"
      },
      "source": [
        "import numpy as np\n",
        "import matplotlib.pyplot as plt\n",
        "import seaborn as sns\n",
        "from sklearn.datasets import make_regression\n",
        "import sklearn\n",
        "\n",
        "sns.set(font_scale=1.3)\n",
        "np.random.seed(42)\n",
        "np.set_printoptions(precision=6, suppress=True)\n",
        "sklearn.__version__"
      ],
      "execution_count": null,
      "outputs": []
    },
    {
      "cell_type": "markdown",
      "metadata": {
        "id": "nGkvEmRUN3R-"
      },
      "source": [
        "### <a name='1'></a> Wygenerowanie danych\n"
      ]
    },
    {
      "cell_type": "code",
      "metadata": {
        "id": "0Jb9zG8cNwNL"
      },
      "source": [
        "data, target = make_regression(n_samples=200, n_features=1, noise=20)\n",
        "target = target ** 2"
      ],
      "execution_count": null,
      "outputs": []
    },
    {
      "cell_type": "code",
      "source": [
        "print(f'{data[:5]}\\n')\n",
        "print(target[:5])"
      ],
      "metadata": {
        "id": "uLZQKFhBTFaf"
      },
      "execution_count": null,
      "outputs": []
    },
    {
      "cell_type": "markdown",
      "metadata": {
        "id": "fxPmcGqMOBbc"
      },
      "source": [
        "### <a name='2'></a> Regresja liniowa\n"
      ]
    },
    {
      "cell_type": "code",
      "metadata": {
        "id": "D9MagPMWhOdt"
      },
      "source": [
        "plt.figure(figsize=(8, 6))\n",
        "plt.title('Regresja liniowa')\n",
        "plt.scatter(data, target, label='dane')\n",
        "plt.legend()\n",
        "plt.xlabel('cecha x')\n",
        "plt.ylabel('target')\n",
        "plt.show()"
      ],
      "execution_count": null,
      "outputs": []
    },
    {
      "cell_type": "markdown",
      "source": [
        "Budowa modelu"
      ],
      "metadata": {
        "id": "kgBHQoICTMhj"
      }
    },
    {
      "cell_type": "code",
      "metadata": {
        "id": "0i128M2-hg-K"
      },
      "source": [
        "from sklearn.linear_model import LinearRegression\n",
        "\n",
        "regressor = LinearRegression()\n",
        "regressor.fit(data, target)"
      ],
      "execution_count": null,
      "outputs": []
    },
    {
      "cell_type": "code",
      "source": [
        "\n",
        "plot_data = np.arange(-3, 3, 0.01).reshape(-1, 1)\n",
        "\n",
        "plt.figure(figsize=(8, 6))\n",
        "plt.title('Regresja liniowa')\n",
        "plt.plot(plot_data, regressor.predict(plot_data), c='red', label='regresja liniowa')\n",
        "plt.scatter(data, target, label='dane')\n",
        "plt.legend()\n",
        "plt.xlabel('cecha x')\n",
        "plt.ylabel('target')\n",
        "plt.show()"
      ],
      "metadata": {
        "id": "LfISilNGTSCl"
      },
      "execution_count": null,
      "outputs": []
    },
    {
      "cell_type": "markdown",
      "metadata": {
        "id": "ZTqkOsJFOTv9"
      },
      "source": [
        "### <a name='3'></a> Regresja drzew decyzyjnych\n"
      ]
    },
    {
      "cell_type": "code",
      "metadata": {
        "id": "UggV5DJeOt76"
      },
      "source": [
        "from sklearn.tree import DecisionTreeRegressor\n",
        "\n",
        "regressor = DecisionTreeRegressor()\n",
        "regressor.fit(data, target)\n",
        "\n"
      ],
      "execution_count": null,
      "outputs": []
    },
    {
      "cell_type": "code",
      "source": [
        "plt.figure(figsize=(8, 6))\n",
        "plt.title('Regresja drzew decyzyjnych')\n",
        "plt.plot(plot_data, regressor.predict(plot_data), c='green', label=f'regresja drzew decyzyjnych')\n",
        "plt.scatter(data, target, label='dane')\n",
        "plt.legend()\n",
        "plt.xlabel('cecha x')\n",
        "plt.ylabel('target')\n",
        "plt.show()"
      ],
      "metadata": {
        "id": "hoi14-BQT4Be"
      },
      "execution_count": null,
      "outputs": []
    },
    {
      "cell_type": "code",
      "metadata": {
        "id": "6HAxh6OfgXI6"
      },
      "source": [
        "max_depth = 1\n",
        "regressor = DecisionTreeRegressor(max_depth=max_depth)\n",
        "regressor.fit(data, target)"
      ],
      "execution_count": null,
      "outputs": []
    },
    {
      "cell_type": "code",
      "source": [
        "plt.figure(figsize=(8, 6))\n",
        "plt.title(f'Regresja drzew decyzyjnych, max_depth={max_depth}')\n",
        "plt.plot(plot_data, regressor.predict(plot_data), c='green', label='regresja drzew decyzyjnych')\n",
        "plt.scatter(data, target, label='dane')\n",
        "plt.legend()\n",
        "plt.xlabel('cecha x')\n",
        "plt.ylabel('target')\n",
        "plt.show()"
      ],
      "metadata": {
        "id": "pfNJ0dUWT8ZU"
      },
      "execution_count": null,
      "outputs": []
    },
    {
      "cell_type": "code",
      "metadata": {
        "id": "O76Z7laNhRKk"
      },
      "source": [
        "max_depth = 2\n",
        "regressor = DecisionTreeRegressor(max_depth=max_depth)\n",
        "regressor.fit(data, target)"
      ],
      "execution_count": null,
      "outputs": []
    },
    {
      "cell_type": "code",
      "source": [
        "plt.figure(figsize=(8, 6))\n",
        "plt.title(f'Regresja drzew decyzyjnych, max_depth={max_depth}')\n",
        "plt.plot(plot_data, regressor.predict(plot_data), c='green', label='regresja drzew decyzyjnych')\n",
        "plt.scatter(data, target, label='dane')\n",
        "plt.legend()\n",
        "plt.xlabel('cecha x')\n",
        "plt.ylabel('target')\n",
        "plt.show()"
      ],
      "metadata": {
        "id": "O6JBlgnjUCIp"
      },
      "execution_count": null,
      "outputs": []
    },
    {
      "cell_type": "markdown",
      "metadata": {
        "id": "kx89Cs1WQ9pU"
      },
      "source": [
        "### <a name='4'></a> Graf drzewa decyzyjnego\n"
      ]
    },
    {
      "cell_type": "code",
      "metadata": {
        "id": "DYmx-xVvQFde"
      },
      "source": [
        "from sklearn.tree import export_graphviz\n",
        "from six import StringIO\n",
        "\n",
        "from IPython.display import Image\n",
        "import pydotplus\n",
        "\n",
        "dot_data = StringIO()\n",
        "export_graphviz(regressor, out_file=dot_data,\n",
        "                filled=True, rounded=True,\n",
        "                special_characters=True,\n",
        "                feature_names=['cecha x'])\n",
        "graph = pydotplus.graph_from_dot_data(dot_data.getvalue())\n",
        "graph.write_png('graph.png')\n",
        "\n",
        "Image(graph.create_png(), width=600)"
      ],
      "execution_count": null,
      "outputs": []
    },
    {
      "cell_type": "markdown",
      "metadata": {
        "id": "0hQdUEhqRGIT"
      },
      "source": [
        "### <a name='5'></a> Model drzewa decyzyjnego - budowa funkcji\n"
      ]
    },
    {
      "cell_type": "code",
      "metadata": {
        "id": "dpyJTbtijdLL"
      },
      "source": [
        "def make_dt_regression(max_depth=2):\n",
        "    regressor = DecisionTreeRegressor(max_depth=max_depth)\n",
        "    regressor.fit(data, target)\n",
        "\n",
        "    plt.figure(figsize=(8, 6))\n",
        "    plt.plot(plot_data, regressor.predict(plot_data), c='red')\n",
        "    plt.scatter(data, target)\n",
        "\n",
        "    dot_data = StringIO()\n",
        "    export_graphviz(regressor, out_file=dot_data,\n",
        "                   filled=True, rounded=True,\n",
        "                   special_characters=True,\n",
        "                   feature_names=['cecha x'])\n",
        "    graph = pydotplus.graph_from_dot_data(dot_data.getvalue())\n",
        "    graph.write_png('graph.png')\n",
        "\n",
        "    return Image(graph.create_png(), width=300 + max_depth * 100)\n"
      ],
      "execution_count": null,
      "outputs": []
    },
    {
      "cell_type": "code",
      "source": [
        "make_dt_regression(max_depth=2)"
      ],
      "metadata": {
        "id": "UTftCAX4UOy5"
      },
      "execution_count": null,
      "outputs": []
    },
    {
      "cell_type": "code",
      "metadata": {
        "id": "tMAVydYylieR"
      },
      "source": [
        "make_dt_regression(max_depth=3)"
      ],
      "execution_count": null,
      "outputs": []
    },
    {
      "cell_type": "code",
      "metadata": {
        "id": "9UA4Iq03n6JY"
      },
      "source": [
        "make_dt_regression(max_depth=4)"
      ],
      "execution_count": null,
      "outputs": []
    }
  ]
}