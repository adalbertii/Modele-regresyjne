{
  "nbformat": 4,
  "nbformat_minor": 0,
  "metadata": {
    "colab": {
      "provenance": [],
      "authorship_tag": "ABX9TyNstdiVgABhu3k1fIVb/gyE",
      "include_colab_link": true
    },
    "kernelspec": {
      "name": "python3",
      "display_name": "Python 3"
    },
    "language_info": {
      "name": "python"
    }
  },
  "cells": [
    {
      "cell_type": "markdown",
      "metadata": {
        "id": "view-in-github",
        "colab_type": "text"
      },
      "source": [
        "<a href=\"https://colab.research.google.com/github/adalbertii/Modele-regresyjne/blob/main/pipeline-boston-house.ipynb\" target=\"_parent\"><img src=\"https://colab.research.google.com/assets/colab-badge.svg\" alt=\"Open In Colab\"/></a>"
      ]
    },
    {
      "cell_type": "markdown",
      "source": [
        "**Model regresyjny**\n",
        "\n",
        "Oparty na sieciach neuronowych\n",
        "\n",
        "1.   Ocena modeli sieci neuronowych z punktu widzenia ich wewnętrznej topologii\n",
        "2.   Badany jest równiez wpływ warstwy standaryzującej\n",
        "3.   Prezentowanana jest koncepcja budowy PIPELINE"
      ],
      "metadata": {
        "id": "alWRQzWrfxdL"
      }
    },
    {
      "cell_type": "code",
      "source": [
        "! pip install Keras"
      ],
      "metadata": {
        "id": "38RRU5nZwfd3",
        "outputId": "a7dc0ff5-0dac-4822-a031-e40de821fd64",
        "colab": {
          "base_uri": "https://localhost:8080/"
        }
      },
      "execution_count": 4,
      "outputs": [
        {
          "output_type": "stream",
          "name": "stdout",
          "text": [
            "Requirement already satisfied: Keras in /usr/local/lib/python3.10/dist-packages (2.13.1)\n"
          ]
        }
      ]
    },
    {
      "cell_type": "code",
      "source": [
        "! pip install scikeras"
      ],
      "metadata": {
        "id": "-qDtLKuGfi6G",
        "outputId": "ef0a5504-52b7-4e45-f74b-1ee2343aca4e",
        "colab": {
          "base_uri": "https://localhost:8080/"
        }
      },
      "execution_count": 5,
      "outputs": [
        {
          "output_type": "stream",
          "name": "stdout",
          "text": [
            "Collecting scikeras\n",
            "  Downloading scikeras-0.11.0-py3-none-any.whl (27 kB)\n",
            "Requirement already satisfied: packaging>=0.21 in /usr/local/lib/python3.10/dist-packages (from scikeras) (23.1)\n",
            "Requirement already satisfied: scikit-learn>=1.0.0 in /usr/local/lib/python3.10/dist-packages (from scikeras) (1.2.2)\n",
            "Requirement already satisfied: numpy>=1.17.3 in /usr/local/lib/python3.10/dist-packages (from scikit-learn>=1.0.0->scikeras) (1.23.5)\n",
            "Requirement already satisfied: scipy>=1.3.2 in /usr/local/lib/python3.10/dist-packages (from scikit-learn>=1.0.0->scikeras) (1.11.3)\n",
            "Requirement already satisfied: joblib>=1.1.1 in /usr/local/lib/python3.10/dist-packages (from scikit-learn>=1.0.0->scikeras) (1.3.2)\n",
            "Requirement already satisfied: threadpoolctl>=2.0.0 in /usr/local/lib/python3.10/dist-packages (from scikit-learn>=1.0.0->scikeras) (3.2.0)\n",
            "Installing collected packages: scikeras\n",
            "Successfully installed scikeras-0.11.0\n"
          ]
        }
      ]
    },
    {
      "cell_type": "code",
      "execution_count": 6,
      "metadata": {
        "id": "EuNvsNFrtn4c"
      },
      "outputs": [],
      "source": [
        "\n",
        "from pandas import read_csv\n",
        "from tensorflow.keras.models import Sequential\n",
        "from tensorflow.keras.layers import Dense\n",
        "from scikeras.wrappers import KerasRegressor\n",
        "from sklearn.model_selection import cross_val_score\n",
        "from sklearn.model_selection import KFold\n",
        "from sklearn.preprocessing import StandardScaler\n",
        "from sklearn.pipeline import Pipeline"
      ]
    },
    {
      "cell_type": "code",
      "source": [
        "url = \"https://raw.githubusercontent.com/selva86/datasets/master/BostonHousing.csv\"\n",
        "datframe = read_csv(url)\n",
        "#datframe = read_csv('boston.csv')"
      ],
      "metadata": {
        "id": "aw1TkC0cytoy"
      },
      "execution_count": 20,
      "outputs": []
    },
    {
      "cell_type": "code",
      "source": [
        "datframe.head()\n"
      ],
      "metadata": {
        "id": "cf3sewOGy39L"
      },
      "execution_count": null,
      "outputs": []
    },
    {
      "cell_type": "code",
      "source": [
        "datframe.info()"
      ],
      "metadata": {
        "id": "jyAghfDoS66W"
      },
      "execution_count": null,
      "outputs": []
    },
    {
      "cell_type": "code",
      "source": [
        "# konwersja dataframe do typu tablicowego\n",
        "\n",
        "dataset = datframe.values"
      ],
      "metadata": {
        "id": "ABoqrpHivxZl"
      },
      "execution_count": 23,
      "outputs": []
    },
    {
      "cell_type": "code",
      "source": [
        "dataset.shape"
      ],
      "metadata": {
        "id": "SWivYSEqxBkg"
      },
      "execution_count": null,
      "outputs": []
    },
    {
      "cell_type": "code",
      "source": [
        "# podział zbioru danych na zbirr ze zmiennymi objaśniajacymi [X] i zmienną objasnianą [Y]\n",
        "X = dataset[:,:-1]\n",
        "Y = dataset[:,-1]"
      ],
      "metadata": {
        "id": "w6eulugCv4Fe"
      },
      "execution_count": 25,
      "outputs": []
    },
    {
      "cell_type": "code",
      "source": [
        "Y.shape"
      ],
      "metadata": {
        "id": "UjIUe8AJWIhw"
      },
      "execution_count": null,
      "outputs": []
    },
    {
      "cell_type": "code",
      "source": [
        "X.shape"
      ],
      "metadata": {
        "id": "Cm8mHYOLkTQy"
      },
      "execution_count": null,
      "outputs": []
    },
    {
      "cell_type": "code",
      "source": [
        "# definicja procedury przeznaczonej do budowy i kompilacji modelu sieci neuronowej\n",
        "def baseline_model():\n",
        "\n",
        " model = Sequential()\n",
        " # parametr input_sape jest taki sam jak kształt tablicy X\n",
        " model.add(Dense(13, input_shape=(13,), kernel_initializer='normal', activation='relu'))\n",
        " model.add(Dense(1, kernel_initializer='normal'))\n",
        "\n",
        " # kompilacja modelu\n",
        " model.compile(loss='mean_squared_error', optimizer='adam')\n",
        " return model\n"
      ],
      "metadata": {
        "id": "-s8dzX92v7se"
      },
      "execution_count": 28,
      "outputs": []
    },
    {
      "cell_type": "markdown",
      "source": [
        "**Ewaluacja modelu**\n",
        "oparatA na walidacji krzyżowej , z podziałem zbioru na 10 podzbiorów"
      ],
      "metadata": {
        "id": "Qc8_XwImlai0"
      }
    },
    {
      "cell_type": "code",
      "source": [
        "estimator = KerasRegressor(model=baseline_model, epochs=100, batch_size=5, verbose=0)\n",
        "kfold = KFold(n_splits=10)"
      ],
      "metadata": {
        "id": "NcUOU0P0v9EA"
      },
      "execution_count": 30,
      "outputs": []
    },
    {
      "cell_type": "code",
      "source": [
        "results_baseline_model = cross_val_score(estimator, X, Y, cv=kfold, scoring='neg_mean_squared_error')\n"
      ],
      "metadata": {
        "id": "darH7gHtwEtR"
      },
      "execution_count": 31,
      "outputs": []
    },
    {
      "cell_type": "code",
      "source": [
        "print(\"Model podstawowy: %.2f (%.2f) MSE\" % (results_baseline_model.mean(), results_baseline_model.std()))"
      ],
      "metadata": {
        "colab": {
          "base_uri": "https://localhost:8080/"
        },
        "id": "Z2sJYdAmwCJ5",
        "outputId": "236b25ab-c84f-4c1f-a76e-a55398fc2e07"
      },
      "execution_count": 32,
      "outputs": [
        {
          "output_type": "stream",
          "name": "stdout",
          "text": [
            "Model podstawowy: -33.84 (24.99) MSE\n"
          ]
        }
      ]
    },
    {
      "cell_type": "markdown",
      "source": [
        "**Budowa modelu z warstwą standaryzującą dane wejściowe do modelu **"
      ],
      "metadata": {
        "id": "AJxNGyslY8_b"
      }
    },
    {
      "cell_type": "code",
      "source": [
        "# DEFINICJA PROCEDURY BUDOWY MODELU\n",
        "def baseline_model():\n",
        "\n",
        " model = Sequential()\n",
        " model.add(Dense(13, input_shape=(13,), kernel_initializer='normal', activation='relu'))\n",
        " model.add(Dense(1, kernel_initializer='normal'))\n",
        " # kompilacja  modelu\n",
        " model.compile(loss='mean_squared_error', optimizer='adam')\n",
        " return model\n"
      ],
      "metadata": {
        "id": "2KEU-rKXZDbP"
      },
      "execution_count": 33,
      "outputs": []
    },
    {
      "cell_type": "code",
      "source": [
        "from sklearn.preprocessing import StandardScaler\n",
        "from sklearn.pipeline import Pipeline"
      ],
      "metadata": {
        "id": "y-z1bTbBZi_2"
      },
      "execution_count": 34,
      "outputs": []
    },
    {
      "cell_type": "code",
      "source": [
        "# budowa pipeline ze standaryzacją danych wejściowych i budową, uczeniem i ewaluacją modelu\n",
        "\n",
        "estimators = []\n",
        "estimators.append(('standardize', StandardScaler()))\n",
        "estimators.append(('mlp', KerasRegressor(model=baseline_model, epochs=50, batch_size=5, verbose=1)))\n",
        "pipeline = Pipeline(estimators)\n",
        "kfold = KFold(n_splits=10)\n"
      ],
      "metadata": {
        "id": "vNUXcUEpZM6c"
      },
      "execution_count": 35,
      "outputs": []
    },
    {
      "cell_type": "code",
      "source": [
        "results_baseline_model_with_st = cross_val_score(pipeline, X, Y, cv=kfold, scoring='neg_mean_squared_error')\n",
        "print(\"Model podstawowy z warstwą standaryzującą: %.2f (%.2f) MSE\" % (results_baseline_model_with_st.mean(), results_baseline_model_with_st.std()))"
      ],
      "metadata": {
        "id": "6VjSuzPtZRn2"
      },
      "execution_count": null,
      "outputs": []
    },
    {
      "cell_type": "markdown",
      "source": [
        "**Dostrajanie topologii sieci neuronowej**\n",
        "\n",
        "Model sieci neuronowej można zoptymalizować pod wieloma względami.\n",
        "\n",
        "Być może punktem największego wpływu jest struktura samej sieci, w tym liczba warstw i liczba neuronów w każdej warstwie.\n",
        "\n",
        "W tej sekcji zostaną ocenione dwie dodatkowe topologie sieci w celu dalszej poprawy wydajności modelu.\n",
        "\n",
        "Przyjrzymy się zarówno głębszej, jak i szerszej topologii sieci.\n",
        "\n"
      ],
      "metadata": {
        "id": "88peIG0SaBfC"
      }
    },
    {
      "cell_type": "markdown",
      "source": [
        "**Ocena głębszej topologii sieci**\n",
        "\n",
        "Jednym ze sposobów poprawy wydajności sieci neuronowej jest dodanie większej liczby warstw. Może to pozwolić modelowi na wyodrębnienie i ponowne połączenie cech wyższego rzędu osadzonych w danych.\n",
        "\n",
        "W tej sekcji oceniony zostanie efekt dodania do modelu jeszcze jednej warstwy ukrytej. Jest to tak proste, jak zdefiniowanie nowej funkcji do tworzenia tego głębszego modelu, skopiowanego z powyższego modelu bazowego. Następnie można wstawić nową linię po pierwszej warstwie ukrytej - w tym przypadku z około połową liczby neuronów"
      ],
      "metadata": {
        "id": "0OrykuM8o-yU"
      }
    },
    {
      "cell_type": "code",
      "source": [
        "# procedura budowy głębszej sieci neuronowej\n",
        "def larger_model():\n",
        "\n",
        "\n",
        " model = Sequential()\n",
        " model.add(Dense(13, input_shape=(13,), kernel_initializer='normal', activation='relu'))\n",
        " model.add(Dense(6, kernel_initializer='normal', activation='relu'))\n",
        " model.add(Dense(1, kernel_initializer='normal'))\n",
        "\n",
        " model.compile(loss='mean_squared_error', optimizer='adam')\n",
        " return model\n"
      ],
      "metadata": {
        "id": "X202KzM_aYod"
      },
      "execution_count": 37,
      "outputs": []
    },
    {
      "cell_type": "code",
      "source": [
        "# evaluacja  głębszego modelu z warstwą standaryzującą\n",
        "estimators = []\n",
        "estimators.append(('standardize', StandardScaler()))\n",
        "estimators.append(('mlp', KerasRegressor(model=larger_model, epochs=50, batch_size=5, verbose=0)))\n",
        "pipeline = Pipeline(estimators)\n",
        "kfold = KFold(n_splits=10)\n"
      ],
      "metadata": {
        "id": "HWhQZtE4ahB0"
      },
      "execution_count": 38,
      "outputs": []
    },
    {
      "cell_type": "code",
      "source": [
        "results_larger_model_with_std = cross_val_score(pipeline, X, Y, cv=kfold, scoring='neg_mean_squared_error')\n",
        "print(\"Głębszy model z warstwą standaryzującą : %.2f (%.2f) MSE\" % (results_larger_model_with_std.mean(), results_larger_model_with_std.std()))"
      ],
      "metadata": {
        "id": "fWYwzuCbakb5",
        "outputId": "6c6c2bd2-7f18-4284-bfa3-f5876b335cce",
        "colab": {
          "base_uri": "https://localhost:8080/"
        }
      },
      "execution_count": 39,
      "outputs": [
        {
          "output_type": "stream",
          "name": "stdout",
          "text": [
            "Głębszy model z warstwą standaryzującą : -24.73 (29.51) MSE\n"
          ]
        }
      ]
    },
    {
      "cell_type": "markdown",
      "source": [
        "**Ocena szerszej topologii sieci**\n",
        "\n",
        "Innym podejściem do zwiększenia możliwości reprezentacyjnych modelu jest stworzenie szerszej sieci.\n",
        "\n",
        "W tej sekcji ocenimy efekt zachowania płytkiej architektury sieci i niemal podwojenia liczby neuronów w jednej warstwie ukrytej.\n",
        "\n",
        " W tym przypadku liczba neuronów w warstwie ukrytej zostanie zwiększona z 13 do 20 w porównaniu do modelu bazowego."
      ],
      "metadata": {
        "id": "j2vS0XsObSbv"
      }
    },
    {
      "cell_type": "code",
      "source": [
        "\n",
        "def wider_model():\n",
        "\n",
        " model = Sequential()\n",
        " model.add(Dense(20, input_shape=(13,), kernel_initializer='normal', activation='relu'))\n",
        " model.add(Dense(1, kernel_initializer='normal'))\n",
        "\n",
        " model.compile(loss='mean_squared_error', optimizer='adam')\n",
        " return model\n"
      ],
      "metadata": {
        "id": "dkgEUjwPbWD1"
      },
      "execution_count": null,
      "outputs": []
    },
    {
      "cell_type": "code",
      "source": [
        "# evaluacja szerszego modelu\n",
        "estimators = []\n",
        "estimators.append(('standardize', StandardScaler()))\n",
        "estimators.append(('mlp', KerasRegressor(model=wider_model, epochs=100, batch_size=5, verbose=0)))\n",
        "pipeline = Pipeline(estimators)\n",
        "kfold = KFold(n_splits=10)\n"
      ],
      "metadata": {
        "id": "OtHtegpCbbZd"
      },
      "execution_count": null,
      "outputs": []
    },
    {
      "cell_type": "code",
      "source": [
        "results = cross_val_score(pipeline, X, Y, cv=kfold, scoring='neg_mean_squared_error')\n",
        "print(\"Szerszy model z warstwą standaryzującą: %.2f (%.2f) MSE\" % (results.mean(), results.std()))"
      ],
      "metadata": {
        "id": "UXJeH3J3bfl1",
        "outputId": "7963efc0-56d4-4929-cbdc-3e4e3d9749b3",
        "colab": {
          "base_uri": "https://localhost:8080/"
        }
      },
      "execution_count": null,
      "outputs": [
        {
          "output_type": "stream",
          "name": "stdout",
          "text": [
            "Wider: -21.54 (23.94) MSE\n"
          ]
        }
      ]
    },
    {
      "cell_type": "code",
      "source": [
        "print(\"Model podstawowy                         : %.2f (%.2f) MSE\" % (results_baseline_model.mean(), results_baseline_model.std()))\n",
        "print(\"Model podstawowy z warstwą standaryzującą: %.2f (%.2f) MSE\" % (results_baseline_model_with_st.mean(), results_baseline_model_with_st.std()))\n",
        "print(\"Głębszy model z warstwą standaryzującą   : %.2f (%.2f) MSE\" % (results_larger_model_with_std.mean(), results_larger_model_with_std.std()))\n",
        "print(\"Szerszy model z warstwą standaryzującą   : %.2f (%.2f) MSE\" % (results.mean(), results.std()))"
      ],
      "metadata": {
        "id": "76PHVpKvbeG0"
      },
      "execution_count": null,
      "outputs": []
    }
  ]
}